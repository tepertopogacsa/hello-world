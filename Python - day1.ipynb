{
  "nbformat": 4,
  "nbformat_minor": 0,
  "metadata": {
    "colab": {
      "name": "Untitled1.ipynb",
      "provenance": [],
      "authorship_tag": "ABX9TyO+XkpZfYBcI6e4Jukb/qn8",
      "include_colab_link": true
    },
    "kernelspec": {
      "name": "python3",
      "display_name": "Python 3"
    }
  },
  "cells": [
    {
      "cell_type": "markdown",
      "metadata": {
        "id": "view-in-github",
        "colab_type": "text"
      },
      "source": [
        "<a href=\"https://colab.research.google.com/github/verticalmeadows/hello-world/blob/master/Python%20-%20day1.ipynb\" target=\"_parent\"><img src=\"https://colab.research.google.com/assets/colab-badge.svg\" alt=\"Open In Colab\"/></a>"
      ]
    },
    {
      "cell_type": "code",
      "metadata": {
        "id": "QPUnGdTERd8z"
      },
      "source": [
        ""
      ],
      "execution_count": null,
      "outputs": []
    },
    {
      "cell_type": "markdown",
      "metadata": {
        "id": "YOmm9qo5RemH"
      },
      "source": [
        "# Syntax in Python"
      ]
    },
    {
      "cell_type": "code",
      "metadata": {
        "colab": {
          "base_uri": "https://localhost:8080/"
        },
        "id": "KT_pwYCwRt0-",
        "outputId": "73a5f3e9-48f6-438b-82b3-65737833d7e1"
      },
      "source": [
        "# set the midpoint\n",
        "midpoint = 5\n",
        "\n",
        "# make two empty lists\n",
        "lower = []; upper = []\n",
        "\n",
        "# split the numbers into lower and upper\n",
        "for i in range(10):\n",
        "    if (i < midpoint):\n",
        "        lower.append(i)\n",
        "    else:\n",
        "        upper.append(i)\n",
        "        \n",
        "print(\"lower:\", lower)\n",
        "print(\"upper:\", upper)"
      ],
      "execution_count": 1,
      "outputs": [
        {
          "output_type": "stream",
          "text": [
            "lower: [0, 1, 2, 3, 4]\n",
            "upper: [5, 6, 7, 8, 9]\n"
          ],
          "name": "stdout"
        }
      ]
    },
    {
      "cell_type": "code",
      "metadata": {
        "colab": {
          "base_uri": "https://localhost:8080/"
        },
        "id": "nz9s-lyLSsFx",
        "outputId": "845bc0ce-f263-4b9c-b57f-518945f4d930"
      },
      "source": [
        "x = 3\n",
        "y = 4\n",
        "if x < 4 :\n",
        "  print(str(x)+ ' is small.')\n",
        "print(y)"
      ],
      "execution_count": 3,
      "outputs": [
        {
          "output_type": "stream",
          "text": [
            "3 is small.\n",
            "4\n"
          ],
          "name": "stdout"
        }
      ]
    },
    {
      "cell_type": "code",
      "metadata": {
        "colab": {
          "base_uri": "https://localhost:8080/"
        },
        "id": "wdUd46hrUXzM",
        "outputId": "f4119c03-366d-4963-d0f2-47c4cc800121"
      },
      "source": [
        "x = 1 + 2 + 3 \\ # backslash works in markdown as well\n",
        "+ 4 + 5\n",
        "print(x)\n",
        "x"
      ],
      "execution_count": 5,
      "outputs": [
        {
          "output_type": "stream",
          "text": [
            "15\n"
          ],
          "name": "stdout"
        },
        {
          "output_type": "execute_result",
          "data": {
            "text/plain": [
              "15"
            ]
          },
          "metadata": {
            "tags": []
          },
          "execution_count": 5
        }
      ]
    },
    {
      "cell_type": "code",
      "metadata": {
        "colab": {
          "base_uri": "https://localhost:8080/"
        },
        "id": "VqVrIvfRU0fo",
        "outputId": "9c33b80d-6964-45e5-a13b-f204cc3c3c79"
      },
      "source": [
        "print(x,y,\"they are arguments\")"
      ],
      "execution_count": 6,
      "outputs": [
        {
          "output_type": "stream",
          "text": [
            "15 4 they are arguments\n"
          ],
          "name": "stdout"
        }
      ]
    },
    {
      "cell_type": "markdown",
      "metadata": {
        "id": "LWCKhdMDUwAR"
      },
      "source": [
        "# Semantics"
      ]
    },
    {
      "cell_type": "code",
      "metadata": {
        "id": "jUCvOGsRUyOd"
      },
      "source": [
        ""
      ],
      "execution_count": null,
      "outputs": []
    },
    {
      "cell_type": "markdown",
      "metadata": {
        "id": "qfd4nVULU8Pn"
      },
      "source": [
        "no need to explicitly specify the type of our variables. It is assigned automatically. As it is a dynamically typed language.\n"
      ]
    },
    {
      "cell_type": "code",
      "metadata": {
        "colab": {
          "base_uri": "https://localhost:8080/"
        },
        "id": "M7YyeOtZU635",
        "outputId": "eeaea0e8-eecf-4f18-a512-5deb443e3c7c"
      },
      "source": [
        "type(x)"
      ],
      "execution_count": 7,
      "outputs": [
        {
          "output_type": "execute_result",
          "data": {
            "text/plain": [
              "int"
            ]
          },
          "metadata": {
            "tags": []
          },
          "execution_count": 7
        }
      ]
    },
    {
      "cell_type": "code",
      "metadata": {
        "colab": {
          "base_uri": "https://localhost:8080/"
        },
        "id": "2r673AvGVbeQ",
        "outputId": "e1810f84-f1ac-42c1-f3b2-765694724cd2"
      },
      "source": [
        "z = 3.4\n",
        "type(z)"
      ],
      "execution_count": 8,
      "outputs": [
        {
          "output_type": "execute_result",
          "data": {
            "text/plain": [
              "float"
            ]
          },
          "metadata": {
            "tags": []
          },
          "execution_count": 8
        }
      ]
    },
    {
      "cell_type": "code",
      "metadata": {
        "colab": {
          "base_uri": "https://localhost:8080/"
        },
        "id": "s2TDsQa6VU_z",
        "outputId": "f5627335-f778-48b5-d0a8-87d8e8e9c8ba"
      },
      "source": [
        "x.conjugate"
      ],
      "execution_count": 9,
      "outputs": [
        {
          "output_type": "execute_result",
          "data": {
            "text/plain": [
              "<function int.conjugate>"
            ]
          },
          "metadata": {
            "tags": []
          },
          "execution_count": 9
        }
      ]
    },
    {
      "cell_type": "markdown",
      "metadata": {
        "id": "dR6RbFGXV5za"
      },
      "source": [
        "when typing \".\" after a variable, leike x. we can see the different functions and stuff that are related to the specific type.\\\n",
        "dir(x) shows us what can be done with a specific thing\n",
        "same with dir(int)\n",
        "functions are purple squares in the instant popup list"
      ]
    },
    {
      "cell_type": "code",
      "metadata": {
        "id": "w-2BOofFWJ2X"
      },
      "source": [
        ""
      ],
      "execution_count": null,
      "outputs": []
    },
    {
      "cell_type": "markdown",
      "metadata": {
        "id": "mCIuYYDxWmIY"
      },
      "source": [
        "we can get help by typing ? after some function\n",
        "e.g. x.conjugate?"
      ]
    },
    {
      "cell_type": "code",
      "metadata": {
        "id": "Ej7VY_6MWrWe"
      },
      "source": [
        "x.conjugate?"
      ],
      "execution_count": 10,
      "outputs": []
    },
    {
      "cell_type": "code",
      "metadata": {
        "id": "SaSXqKlNW2G_"
      },
      "source": [
        "x = \"csakany\"\n",
        "x = 1\n",
        "x = [1, 2, 3]"
      ],
      "execution_count": null,
      "outputs": []
    },
    {
      "cell_type": "code",
      "metadata": {
        "colab": {
          "base_uri": "https://localhost:8080/"
        },
        "id": "iq2zxbOoXA-J",
        "outputId": "8b344879-5fd1-4cf6-ebb1-82bb43f54321"
      },
      "source": [
        "x = [1, 2, 3]\n",
        "y = x\n",
        "print(x)\n",
        "print(y)"
      ],
      "execution_count": 11,
      "outputs": [
        {
          "output_type": "stream",
          "text": [
            "[1, 2, 3]\n",
            "[1, 2, 3]\n"
          ],
          "name": "stdout"
        }
      ]
    },
    {
      "cell_type": "code",
      "metadata": {
        "colab": {
          "base_uri": "https://localhost:8080/"
        },
        "id": "v2UxE6DdXHcT",
        "outputId": "678d1031-fab9-456e-d4cb-20f05576ab9c"
      },
      "source": [
        "type(x) # but x.type() wouldn't work"
      ],
      "execution_count": 12,
      "outputs": [
        {
          "output_type": "execute_result",
          "data": {
            "text/plain": [
              "list"
            ]
          },
          "metadata": {
            "tags": []
          },
          "execution_count": 12
        }
      ]
    },
    {
      "cell_type": "code",
      "metadata": {
        "id": "3GtDem2gXIgx"
      },
      "source": [
        "x.append?"
      ],
      "execution_count": 13,
      "outputs": []
    },
    {
      "cell_type": "code",
      "metadata": {
        "colab": {
          "base_uri": "https://localhost:8080/"
        },
        "id": "o73e0Bb7XUPY",
        "outputId": "f95d15e6-05d9-486c-df5b-91f76099cd37"
      },
      "source": [
        "x.append(4)\n",
        "print(y)\n",
        "print(x)"
      ],
      "execution_count": 14,
      "outputs": [
        {
          "output_type": "stream",
          "text": [
            "[1, 2, 3, 4]\n",
            "[1, 2, 3, 4]\n"
          ],
          "name": "stdout"
        }
      ]
    },
    {
      "cell_type": "markdown",
      "metadata": {
        "id": "uW9ixnEFYHg3"
      },
      "source": [
        "there are mutable and immutable objects. Mutable ones are what? \n",
        "Immutable ones when created are completely new."
      ]
    },
    {
      "cell_type": "code",
      "metadata": {
        "colab": {
          "base_uri": "https://localhost:8080/"
        },
        "id": "iJelTx5uYND7",
        "outputId": "f8d742a6-aadf-41c3-dc22-64b6a03f2183"
      },
      "source": [
        "x = 3\n",
        "y = x\n",
        "print(x)\n",
        "print(y)"
      ],
      "execution_count": 16,
      "outputs": [
        {
          "output_type": "stream",
          "text": [
            "3\n",
            "3\n"
          ],
          "name": "stdout"
        }
      ]
    },
    {
      "cell_type": "code",
      "metadata": {
        "colab": {
          "base_uri": "https://localhost:8080/"
        },
        "id": "7OdTRajjY-HJ",
        "outputId": "8b7e38b0-49eb-4c0e-c28d-015c5b48b76a"
      },
      "source": [
        "x = x + 1 # thisi is a reassignment, I'm changing the pointer in the memory. Y still points to the same memory lcation as before. Because integers are immutable values. So basically we create a new object\n",
        "print(x)\n",
        "print(y)"
      ],
      "execution_count": 18,
      "outputs": [
        {
          "output_type": "stream",
          "text": [
            "5\n",
            "3\n"
          ],
          "name": "stdout"
        }
      ]
    }
  ]
}