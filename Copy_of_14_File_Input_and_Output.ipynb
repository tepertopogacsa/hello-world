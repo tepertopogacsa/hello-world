{
  "nbformat": 4,
  "nbformat_minor": 0,
  "metadata": {
    "anaconda-cloud": {},
    "kernelspec": {
      "display_name": "Python 3",
      "language": "python",
      "name": "python3"
    },
    "language_info": {
      "codemirror_mode": {
        "name": "ipython",
        "version": 3
      },
      "file_extension": ".py",
      "mimetype": "text/x-python",
      "name": "python",
      "nbconvert_exporter": "python",
      "pygments_lexer": "ipython3",
      "version": "3.6.10"
    },
    "colab": {
      "name": "Copy of 14-File-Input-and-Output.ipynb",
      "provenance": [],
      "include_colab_link": true
    }
  },
  "cells": [
    {
      "cell_type": "markdown",
      "metadata": {
        "id": "view-in-github",
        "colab_type": "text"
      },
      "source": [
        "<a href=\"https://colab.research.google.com/github/verticalmeadows/hello-world/blob/master/Copy_of_14_File_Input_and_Output.ipynb\" target=\"_parent\"><img src=\"https://colab.research.google.com/assets/colab-badge.svg\" alt=\"Open In Colab\"/></a>"
      ]
    },
    {
      "cell_type": "markdown",
      "metadata": {
        "id": "6C4LepSVbmNz"
      },
      "source": [
        "Handling files belongs also to the basic skills in programming, that's why this chapter was added as a completion by me (Kinga Sipos)."
      ]
    },
    {
      "cell_type": "markdown",
      "metadata": {
        "id": "lRXEsrE2bmN2"
      },
      "source": [
        "<!--NAVIGATION-->\n",
        "< [Strings and Regular Expressions](13-Strings-and-Regular-Expressions.ipynb) | [Contents](Index.ipynb) | [Modules and Packages](15-Modules-and-Packages.ipynb) >"
      ]
    },
    {
      "cell_type": "markdown",
      "metadata": {
        "id": "bpRav7MfbmN2"
      },
      "source": [
        "# File Input and Output\n",
        "\n",
        "## Filesystem operations"
      ]
    },
    {
      "cell_type": "markdown",
      "metadata": {
        "id": "Ms7QrouzbmN3"
      },
      "source": [
        "Filesystem operations can be carried out by executing a normal shell command preceded by exclamation mark:"
      ]
    },
    {
      "cell_type": "code",
      "metadata": {
        "id": "Vq8Vf5sCbmN4"
      },
      "source": [
        "!ls"
      ],
      "execution_count": null,
      "outputs": []
    },
    {
      "cell_type": "markdown",
      "metadata": {
        "id": "ViqpXJZjbmN5"
      },
      "source": [
        "Another alternative to operate files is to use the ``os`` module:\n",
        "\n",
        "* ``os.getcwd()``- Returns the path to the current working directory.\n",
        "* ``os.chdir(path)`` - Changes the current working directory to path.\n",
        "* ``os.listdir(dir)`` - Returns the list of entries in directory dir (omitting ‘.’ and ‘..’)\n",
        "* ``os.makedirs(path)`` - Creates a directory; nothing happens if the directory already exists. Creates all the intermediate-level directories needed to contain the leaf.\n",
        "* ``os.rename(old,new)`` - Renames a file or directory from old to new."
      ]
    },
    {
      "cell_type": "markdown",
      "metadata": {
        "id": "K51F1OTAbmN6"
      },
      "source": [
        "Specific path related functions are methods of ``os.path``:\n",
        "\n",
        "* ``os.path.exists(path)`` - Returns True if path exists.\n",
        "* ``os.path.isdir(path)`` - Returns True if path is a directory. \n",
        "* ``os.path.isfile(path)`` - Returns True if path is a regular file.\n",
        "* ``os.path.basename(path)`` - Returns the base name (the part after the last ‘/’ character)\n",
        "* ``os.path.dirname(path)`` - Returns the directory name (the part before the last / character).\n",
        "* ``os.path.abspath(path)`` - Make path absolute (i.e., start with a /)."
      ]
    },
    {
      "cell_type": "markdown",
      "metadata": {
        "id": "CX11C-onbmN7"
      },
      "source": [
        "## Read from a file and write to a file\n",
        "\n",
        "### Reading from and writing to textfiles\n",
        "\n",
        "1. The **first line** of code for processing a text file usually looks like this:\n",
        "\n",
        "`with open(filename, mode) as stream:` - which prepares the file for processing."
      ]
    },
    {
      "cell_type": "markdown",
      "metadata": {
        "id": "bRBOpPF_bmN8"
      },
      "source": [
        "Mode is one of ``'r'``, ``'w'`` or ``'a'`` for reading, writing, appending. You can add a ‘+’ character to enable read+write (other effects being the same).\n",
        "\n",
        "`stream = open(filename, mode)` is equivalent to the first line of the previous code, the difference is that `with` ensures that the file is closed after the desired operation is carried out, otherwise one should close the file explicitely by the `stream.close()` command."
      ]
    },
    {
      "cell_type": "markdown",
      "metadata": {
        "id": "z15GM6eAbmN8"
      },
      "source": [
        "2. a) If the chosen processing mode is read, the **second line** can be something like\n",
        "\n",
        "`content = stream.read()` - which returns the whole content of a file as a multiline string\n",
        "\n",
        "or\n",
        "\n",
        "`content = stream.readlines()` - which returns the content of the file as a list of one line strings\n",
        "    \n",
        "or \n",
        "\n",
        "`for line in stream:` - which reads the lines of file line by line."
      ]
    },
    {
      "cell_type": "markdown",
      "metadata": {
        "id": "8NCTPIaRbmN9"
      },
      "source": [
        "2. b) If the chosen processing is write, the **second line** can be \n",
        "\n",
        "`stream.write(text)`"
      ]
    },
    {
      "cell_type": "markdown",
      "metadata": {
        "id": "9Q5K-cJWbmN-"
      },
      "source": [
        "### Exercise\n",
        "\n",
        "As an exercise we will create a file with the haikus from the previous chapter."
      ]
    },
    {
      "cell_type": "code",
      "metadata": {
        "id": "3G4C7v0nbmN-"
      },
      "source": [
        "mytext = \"\"\"WORKSHOP HAIKU\n",
        "translated by Éva Antal\n",
        "\n",
        "Perhaps do not even touch it.\n",
        "Just look at it, look at it,\n",
        "until it becomes beautiful.\n",
        "\n",
        " \n",
        "\n",
        "TEST QUESTION FOR EVERY DAY\n",
        "translated by Éva Antal\n",
        "\n",
        "Do you still see\n",
        "what you look at, or you only\n",
        "know: \"there\" \"it\" \"is\"?\n",
        "\n",
        " \n",
        "\n",
        "FROM THE BEST OF INTENTIONS\n",
        "translated by Gábor G. Gyukics and Michael Castro\n",
        "\n",
        "fall asleep;\n",
        "die the same way a child\n",
        "bites into an apple.\n",
        "\n",
        " \n",
        "\n",
        "MEETING\n",
        "translated by Gábor G. Gyukics and Michael Castro\n",
        "\n",
        "I plan it as a farewell\n",
        "\n",
        " \n",
        "\n",
        "THE HAIKU\n",
        "translated by Tamás Révbíró\n",
        "\n",
        "in front of my feet\n",
        "a bird sat, and then took flight.\n",
        "Now I'm heavier.\n",
        "\n",
        " \n",
        "\n",
        "AXIOM\n",
        "translated by Tamás Révbíró\n",
        "\n",
        "You should try and help\n",
        "everything to be the way\n",
        "it is anyway.\n",
        "\n",
        " \n",
        "\n",
        "ECHO ON EPICTETUS\n",
        "translated by Tamás Révbíró\n",
        "\n",
        "Don't say, \"I lost it\",\n",
        "about anything. Rather\n",
        "say, \"I gave it back\".\n",
        "\n",
        " \n",
        "\n",
        "AXIOM\n",
        "translated by Tamás Révbíró\n",
        "\n",
        "Parents and killers:\n",
        "almost-innocent servants.\n",
        "They just execute.\n",
        "\n",
        " \n",
        "\n",
        "ZENsation\n",
        "translated by Tamás Révbíró\n",
        "\n",
        "Look, the snow gives body to the wind!\n",
        "\n",
        " \n",
        "\n",
        "DISILLUSIONIST\n",
        "translated by Tamás Révbíró\n",
        "\n",
        "Why should I travel\n",
        "when I can be a stranger\n",
        "right here, standing still?\"\"\""
      ],
      "execution_count": null,
      "outputs": []
    },
    {
      "cell_type": "code",
      "metadata": {
        "id": "pK2viF5nbmN_"
      },
      "source": [
        "with open('Haikus.txt', 'w') as outstream:\n",
        "    outstream.write(mytext)"
      ],
      "execution_count": null,
      "outputs": []
    },
    {
      "cell_type": "markdown",
      "metadata": {
        "id": "Np5vv5JibmOA"
      },
      "source": [
        "One can check whether the file is closed."
      ]
    },
    {
      "cell_type": "code",
      "metadata": {
        "id": "yTlx53sMbmOA"
      },
      "source": [
        "outstream.closed"
      ],
      "execution_count": null,
      "outputs": []
    },
    {
      "cell_type": "markdown",
      "metadata": {
        "id": "b7Hly6LEbmOA"
      },
      "source": [
        "Now let's read the first two lines from the created file."
      ]
    },
    {
      "cell_type": "code",
      "metadata": {
        "id": "voApWyS1bmOB"
      },
      "source": [
        "with open('Haikus.txt', 'r') as instream:\n",
        "    print(instream.readline())\n",
        "    print(instream.readline())"
      ],
      "execution_count": null,
      "outputs": []
    },
    {
      "cell_type": "markdown",
      "metadata": {
        "id": "X5V60bFxbmOB"
      },
      "source": [
        "This time let's read all the lines of the file into a list and print the first 6 lines."
      ]
    },
    {
      "cell_type": "code",
      "metadata": {
        "id": "zNHnMjT2bmOB"
      },
      "source": [
        "with open('Haikus.txt', 'r') as instream:\n",
        "    textlines = instream.readlines()\n",
        "\n",
        "for i in range(6):\n",
        "    print(textlines[i])"
      ],
      "execution_count": null,
      "outputs": []
    },
    {
      "cell_type": "markdown",
      "metadata": {
        "id": "KWhZALOubmOB"
      },
      "source": [
        "### Reading from and writing to Comma Separated Values files\n",
        "\n",
        "Reading and writing can be performed in the same way as above.\n",
        "\n",
        "For example one can create a CSV file by the following code:"
      ]
    },
    {
      "cell_type": "code",
      "metadata": {
        "id": "H3tdL7-8bmOB"
      },
      "source": [
        "import csv\n",
        "\n",
        "with open('employee_file.csv', mode='w') as employee_file:\n",
        "    employee_writer = csv.writer(employee_file, delimiter=',', quotechar='\"', quoting=csv.QUOTE_MINIMAL)\n",
        "\n",
        "    employee_writer.writerow(['John Smith', 'Accounting', 'November', '27'])\n",
        "    employee_writer.writerow(['Erica Meyers', 'IT', 'March', '31'])"
      ],
      "execution_count": null,
      "outputs": []
    },
    {
      "cell_type": "markdown",
      "metadata": {
        "id": "IWPQCfp0bmOC"
      },
      "source": [
        "or with the following code:"
      ]
    },
    {
      "cell_type": "code",
      "metadata": {
        "id": "SguhtEoxbmOC"
      },
      "source": [
        "import csv\n",
        "\n",
        "with open('employee_file2.csv', mode='w') as csv_file:\n",
        "    fieldnames = ['emp_name', 'dept', 'birth_month', 'age']\n",
        "    writer = csv.DictWriter(csv_file, fieldnames=fieldnames)\n",
        "\n",
        "    writer.writeheader()\n",
        "    writer.writerow({'emp_name': 'John Smith', 'dept': 'Accounting', 'birth_month': 'November', 'age': '27'})\n",
        "    writer.writerow({'emp_name': 'Erica Meyers', 'dept': 'IT', 'birth_month': 'March', 'age': 31})"
      ],
      "execution_count": null,
      "outputs": []
    },
    {
      "cell_type": "markdown",
      "metadata": {
        "id": "A5i3MPMVbmOC"
      },
      "source": [
        "Reading can be performed in the following way:"
      ]
    },
    {
      "cell_type": "code",
      "metadata": {
        "id": "eQOR-gPnbmOD"
      },
      "source": [
        "with open('employee_file2.csv') as csv_file:\n",
        "    csv_reader = csv.reader(csv_file, delimiter=',')\n",
        "    line_count = 0\n",
        "    for row in csv_reader:\n",
        "        if line_count == 0:\n",
        "            print(f'Column names are {\", \".join(row)}')\n",
        "            line_count += 1\n",
        "        else:\n",
        "            print(f'\\t{row[0]} works at {row[1]}, has birthday in {row[2]} and is {row[3]} years old.')\n",
        "            line_count += 1\n",
        "    print(f'Processed {line_count} lines.')"
      ],
      "execution_count": null,
      "outputs": []
    },
    {
      "cell_type": "code",
      "metadata": {
        "id": "JaMy9A0dbmOD"
      },
      "source": [
        "with open('employee_file2.csv', mode='r') as csv_file:\n",
        "    csv_reader = csv.DictReader(csv_file)\n",
        "    line_count = 0\n",
        "    for row in csv_reader:\n",
        "        if line_count == 0:\n",
        "            print(f'Column names are {\", \".join(row)}')\n",
        "            line_count += 1\n",
        "        print(f'\\t{row[\"emp_name\"]} works in the {row[\"dept\"]} department, and was born in {row[\"birth_month\"]}.')\n",
        "        line_count += 1\n",
        "    print(f'Processed {line_count} lines.')"
      ],
      "execution_count": null,
      "outputs": []
    },
    {
      "cell_type": "markdown",
      "metadata": {
        "id": "WQAEKij1bmOE"
      },
      "source": [
        "One can import a CSV file directly as dataframe."
      ]
    },
    {
      "cell_type": "code",
      "metadata": {
        "id": "Ay3zv2ZabmOE"
      },
      "source": [
        "import pandas as pd\n",
        "df = pd.read_csv('employee_file2.csv')\n",
        "print(df)"
      ],
      "execution_count": null,
      "outputs": []
    },
    {
      "cell_type": "markdown",
      "metadata": {
        "id": "EWm-FC26bmOE"
      },
      "source": [
        "Experiment with possible methods and attributes of dataframes!"
      ]
    },
    {
      "cell_type": "code",
      "metadata": {
        "id": "SVrjB1k9bmOF"
      },
      "source": [
        "df.head()"
      ],
      "execution_count": null,
      "outputs": []
    },
    {
      "cell_type": "code",
      "metadata": {
        "id": "hjdCnA_GbmOF"
      },
      "source": [
        "df.describe()"
      ],
      "execution_count": null,
      "outputs": []
    },
    {
      "cell_type": "code",
      "metadata": {
        "id": "6Ioc7UMgbmOG"
      },
      "source": [
        "df.dtypes"
      ],
      "execution_count": null,
      "outputs": []
    },
    {
      "cell_type": "markdown",
      "metadata": {
        "id": "SEvT4Y3jbmOG"
      },
      "source": [
        "<!--NAVIGATION-->\n",
        "< [Strings and Regular Expressions](13-Strings-and-Regular-Expressions.ipynb) | [Contents](Index.ipynb) | [Modules and Packages](15-Modules-and-Packages.ipynb) >"
      ]
    }
  ]
}